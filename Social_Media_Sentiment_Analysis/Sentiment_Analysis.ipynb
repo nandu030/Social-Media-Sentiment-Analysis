{
 "cells": [
  {
   "cell_type": "code",
   "execution_count": null,
   "metadata": {
    "colab": {
     "base_uri": "https://localhost:8080/",
     "height": 34
    },
    "colab_type": "code",
    "id": "43ez8yuyQzOB",
    "outputId": "8c2d3a35-d128-48e8-8627-5b2dd6bd42e1"
   },
   "outputs": [],
   "source": [
    "import numpy\n",
    "from numpy import array\n",
    "from keras.datasets import imdb\n",
    "from keras.models import Sequential\n",
    "from keras.layers import Dense\n",
    "from keras.layers import LSTM, Dropout\n",
    "from keras.layers.embeddings import Embedding\n",
    "from keras.preprocessing import sequence\n",
    "from keras.models import load_model\n",
    "import re\n",
    "import numpy as np\n",
    "from nltk.tokenize import word_tokenize\n",
    "import nltk\n",
    "\n",
    "numpy.random.seed(7)"
   ]
  },
  {
   "cell_type": "code",
   "execution_count": 2,
   "metadata": {
    "colab": {
     "base_uri": "https://localhost:8080/",
     "height": 51
    },
    "colab_type": "code",
    "id": "hwsMQOoXR7k8",
    "outputId": "64ebc5bf-7b95-43a2-eef1-a1ebece2bee5"
   },
   "outputs": [
    {
     "name": "stdout",
     "output_type": "stream",
     "text": [
      "Downloading data from https://s3.amazonaws.com/text-datasets/imdb.npz\n",
      "17465344/17464789 [==============================] - 0s 0us/step\n"
     ]
    }
   ],
   "source": [
    "top_words = 5000 #vocabulary_size = 5000\n",
    "(X_train, y_train), (X_test, y_test) = imdb.load_data(num_words=top_words)"
   ]
  },
  {
   "cell_type": "code",
   "execution_count": 3,
   "metadata": {
    "colab": {
     "base_uri": "https://localhost:8080/",
     "height": 105
    },
    "colab_type": "code",
    "id": "oj2DxSo3R_b9",
    "outputId": "b9b11b5f-da1e-4336-a145-8df8dac4acee"
   },
   "outputs": [
    {
     "name": "stdout",
     "output_type": "stream",
     "text": [
      "---review---\n",
      "[1, 2, 365, 1234, 5, 1156, 354, 11, 14, 2, 2, 7, 1016, 2, 2, 356, 44, 4, 1349, 500, 746, 5, 200, 4, 4132, 11, 2, 2, 1117, 1831, 2, 5, 4831, 26, 6, 2, 4183, 17, 369, 37, 215, 1345, 143, 2, 5, 1838, 8, 1974, 15, 36, 119, 257, 85, 52, 486, 9, 6, 2, 2, 63, 271, 6, 196, 96, 949, 4121, 4, 2, 7, 4, 2212, 2436, 819, 63, 47, 77, 2, 180, 6, 227, 11, 94, 2494, 2, 13, 423, 4, 168, 7, 4, 22, 5, 89, 665, 71, 270, 56, 5, 13, 197, 12, 161, 2, 99, 76, 23, 2, 7, 419, 665, 40, 91, 85, 108, 7, 4, 2084, 5, 4773, 81, 55, 52, 1901]\n",
      "---label---\n",
      "1\n"
     ]
    }
   ],
   "source": [
    "'''Inspect a sample review and its label.Note that the review is stored as a sequence of integers. These are word IDs that \n",
    "have been pre-assigned to individual words, and the label is an integer (0 for negative, 1 for positive).'''\n",
    "print('---review---')\n",
    "print(X_train[6])\n",
    "print('---label---')\n",
    "print(y_train[6])"
   ]
  },
  {
   "cell_type": "code",
   "execution_count": 4,
   "metadata": {
    "colab": {
     "base_uri": "https://localhost:8080/",
     "height": 139
    },
    "colab_type": "code",
    "id": "ly7GHdRXUstZ",
    "outputId": "9c60b125-aa2f-4e07-89fe-491299d03dc4"
   },
   "outputs": [
    {
     "name": "stdout",
     "output_type": "stream",
     "text": [
      "Downloading data from https://s3.amazonaws.com/text-datasets/imdb_word_index.json\n",
      "1646592/1641221 [==============================] - 0s 0us/step\n",
      "---review with words---\n",
      "['the', 'and', 'full', 'involving', 'to', 'impressive', 'boring', 'this', 'as', 'and', 'and', 'br', 'villain', 'and', 'and', 'need', 'has', 'of', 'costumes', 'b', 'message', 'to', 'may', 'of', 'props', 'this', 'and', 'and', 'concept', 'issue', 'and', 'to', \"god's\", 'he', 'is', 'and', 'unfolds', 'movie', 'women', 'like', \"isn't\", 'surely', \"i'm\", 'and', 'to', 'toward', 'in', \"here's\", 'for', 'from', 'did', 'having', 'because', 'very', 'quality', 'it', 'is', 'and', 'and', 'really', 'book', 'is', 'both', 'too', 'worked', 'carl', 'of', 'and', 'br', 'of', 'reviewer', 'closer', 'figure', 'really', 'there', 'will', 'and', 'things', 'is', 'far', 'this', 'make', 'mistakes', 'and', 'was', \"couldn't\", 'of', 'few', 'br', 'of', 'you', 'to', \"don't\", 'female', 'than', 'place', 'she', 'to', 'was', 'between', 'that', 'nothing', 'and', 'movies', 'get', 'are', 'and', 'br', 'yes', 'female', 'just', 'its', 'because', 'many', 'br', 'of', 'overly', 'to', 'descent', 'people', 'time', 'very', 'bland']\n",
      "---label---\n",
      "1\n"
     ]
    }
   ],
   "source": [
    "word2id = imdb.get_word_index()\n",
    "id2word = {i: word for word, i in word2id.items()}\n",
    "print('---review with words---')\n",
    "print([id2word.get(i, ' ') for i in X_train[6]])\n",
    "print('---label---')\n",
    "print(y_train[6])"
   ]
  },
  {
   "cell_type": "code",
   "execution_count": 7,
   "metadata": {
    "colab": {
     "base_uri": "https://localhost:8080/",
     "height": 34
    },
    "colab_type": "code",
    "id": "6mTjlhjsUwb_",
    "outputId": "53738e6c-8004-48f9-d2bb-b9cd6641652e"
   },
   "outputs": [
    {
     "name": "stdout",
     "output_type": "stream",
     "text": [
      "Maximum review length: 2697\n"
     ]
    }
   ],
   "source": [
    "print('Maximum review length: {}'.format(\n",
    "len(max((X_train + X_test), key=len))))"
   ]
  },
  {
   "cell_type": "code",
   "execution_count": 8,
   "metadata": {
    "colab": {
     "base_uri": "https://localhost:8080/",
     "height": 34
    },
    "colab_type": "code",
    "id": "e5ZjlDsFU1rY",
    "outputId": "6c365fbe-1ed0-4bf2-b0ad-c528fa2a2297"
   },
   "outputs": [
    {
     "name": "stdout",
     "output_type": "stream",
     "text": [
      "Minimum review length: 14\n"
     ]
    }
   ],
   "source": [
    "print('Minimum review length: {}'.format(\n",
    "len(min((X_train + X_test), key=len))))"
   ]
  },
  {
   "cell_type": "code",
   "execution_count": null,
   "metadata": {
    "colab": {},
    "colab_type": "code",
    "id": "NTfwTJVjU4qD"
   },
   "outputs": [],
   "source": [
    "max_review_length = 500\n",
    "X_train = sequence.pad_sequences(X_train, maxlen=max_review_length)\n",
    "X_test = sequence.pad_sequences(X_test, maxlen=max_review_length)"
   ]
  },
  {
   "cell_type": "code",
   "execution_count": 10,
   "metadata": {
    "colab": {
     "base_uri": "https://localhost:8080/",
     "height": 1000
    },
    "colab_type": "code",
    "id": "5_daOM6bU8-k",
    "outputId": "40f7e595-adb5-4687-82f7-a73a5bb6df4a",
    "scrolled": true
   },
   "outputs": [
    {
     "name": "stderr",
     "output_type": "stream",
     "text": [
      "WARNING: Logging before flag parsing goes to stderr.\n",
      "W0729 18:44:23.884740 140075368548224 deprecation_wrapper.py:119] From /usr/local/lib/python3.6/dist-packages/keras/backend/tensorflow_backend.py:74: The name tf.get_default_graph is deprecated. Please use tf.compat.v1.get_default_graph instead.\n",
      "\n",
      "W0729 18:44:23.938334 140075368548224 deprecation_wrapper.py:119] From /usr/local/lib/python3.6/dist-packages/keras/backend/tensorflow_backend.py:517: The name tf.placeholder is deprecated. Please use tf.compat.v1.placeholder instead.\n",
      "\n",
      "W0729 18:44:23.951953 140075368548224 deprecation_wrapper.py:119] From /usr/local/lib/python3.6/dist-packages/keras/backend/tensorflow_backend.py:4138: The name tf.random_uniform is deprecated. Please use tf.random.uniform instead.\n",
      "\n",
      "W0729 18:44:23.984166 140075368548224 deprecation_wrapper.py:119] From /usr/local/lib/python3.6/dist-packages/keras/backend/tensorflow_backend.py:133: The name tf.placeholder_with_default is deprecated. Please use tf.compat.v1.placeholder_with_default instead.\n",
      "\n",
      "W0729 18:44:23.998390 140075368548224 deprecation.py:506] From /usr/local/lib/python3.6/dist-packages/keras/backend/tensorflow_backend.py:3445: calling dropout (from tensorflow.python.ops.nn_ops) with keep_prob is deprecated and will be removed in a future version.\n",
      "Instructions for updating:\n",
      "Please use `rate` instead of `keep_prob`. Rate should be set to `rate = 1 - keep_prob`.\n",
      "W0729 18:44:24.340905 140075368548224 deprecation_wrapper.py:119] From /usr/local/lib/python3.6/dist-packages/keras/optimizers.py:790: The name tf.train.Optimizer is deprecated. Please use tf.compat.v1.train.Optimizer instead.\n",
      "\n",
      "W0729 18:44:24.371876 140075368548224 deprecation_wrapper.py:119] From /usr/local/lib/python3.6/dist-packages/keras/backend/tensorflow_backend.py:3376: The name tf.log is deprecated. Please use tf.math.log instead.\n",
      "\n",
      "W0729 18:44:24.379885 140075368548224 deprecation.py:323] From /usr/local/lib/python3.6/dist-packages/tensorflow/python/ops/nn_impl.py:180: add_dispatch_support.<locals>.wrapper (from tensorflow.python.ops.array_ops) is deprecated and will be removed in a future version.\n",
      "Instructions for updating:\n",
      "Use tf.where in 2.0, which has the same broadcast rule as np.where\n"
     ]
    },
    {
     "name": "stdout",
     "output_type": "stream",
     "text": [
      "_________________________________________________________________\n",
      "Layer (type)                 Output Shape              Param #   \n",
      "=================================================================\n",
      "embedding_1 (Embedding)      (None, 500, 32)           160000    \n",
      "_________________________________________________________________\n",
      "dropout_1 (Dropout)          (None, 500, 32)           0         \n",
      "_________________________________________________________________\n",
      "lstm_1 (LSTM)                (None, 100)               53200     \n",
      "_________________________________________________________________\n",
      "dropout_2 (Dropout)          (None, 100)               0         \n",
      "_________________________________________________________________\n",
      "dense_1 (Dense)              (None, 1)                 101       \n",
      "=================================================================\n",
      "Total params: 213,301\n",
      "Trainable params: 213,301\n",
      "Non-trainable params: 0\n",
      "_________________________________________________________________\n",
      "None\n",
      "Train on 25000 samples, validate on 25000 samples\n",
      "Epoch 1/30\n",
      "25000/25000 [==============================] - 319s 13ms/step - loss: 0.4714 - acc: 0.7718 - val_loss: 0.3590 - val_acc: 0.8481\n",
      "Epoch 2/30\n",
      "25000/25000 [==============================] - 319s 13ms/step - loss: 0.2927 - acc: 0.8833 - val_loss: 0.3459 - val_acc: 0.8686\n",
      "Epoch 3/30\n",
      "25000/25000 [==============================] - 321s 13ms/step - loss: 0.2786 - acc: 0.8916 - val_loss: 0.3535 - val_acc: 0.8586\n",
      "Epoch 4/30\n",
      "25000/25000 [==============================] - 320s 13ms/step - loss: 0.2406 - acc: 0.9064 - val_loss: 0.3174 - val_acc: 0.8708\n",
      "Epoch 5/30\n",
      "25000/25000 [==============================] - 321s 13ms/step - loss: 0.2196 - acc: 0.9178 - val_loss: 0.3228 - val_acc: 0.8728\n",
      "Epoch 6/30\n",
      "25000/25000 [==============================] - 320s 13ms/step - loss: 0.2204 - acc: 0.9148 - val_loss: 0.3350 - val_acc: 0.8738\n",
      "Epoch 7/30\n",
      "25000/25000 [==============================] - 319s 13ms/step - loss: 0.1893 - acc: 0.9305 - val_loss: 0.3791 - val_acc: 0.8685\n",
      "Epoch 8/30\n",
      "25000/25000 [==============================] - 321s 13ms/step - loss: 0.1762 - acc: 0.9355 - val_loss: 0.4380 - val_acc: 0.8635\n",
      "Epoch 9/30\n",
      "25000/25000 [==============================] - 321s 13ms/step - loss: 0.1741 - acc: 0.9351 - val_loss: 0.3642 - val_acc: 0.8667\n",
      "Epoch 10/30\n",
      "25000/25000 [==============================] - 319s 13ms/step - loss: 0.1735 - acc: 0.9360 - val_loss: 0.4217 - val_acc: 0.8648\n",
      "Epoch 11/30\n",
      "25000/25000 [==============================] - 318s 13ms/step - loss: 0.1514 - acc: 0.9438 - val_loss: 0.3868 - val_acc: 0.8681\n",
      "Epoch 12/30\n",
      "25000/25000 [==============================] - 320s 13ms/step - loss: 0.1293 - acc: 0.9536 - val_loss: 0.4243 - val_acc: 0.8662\n",
      "Epoch 13/30\n",
      "25000/25000 [==============================] - 319s 13ms/step - loss: 0.1759 - acc: 0.9314 - val_loss: 0.4003 - val_acc: 0.8565\n",
      "Epoch 14/30\n",
      "25000/25000 [==============================] - 320s 13ms/step - loss: 0.1238 - acc: 0.9564 - val_loss: 0.4419 - val_acc: 0.8554\n",
      "Epoch 15/30\n",
      "25000/25000 [==============================] - 320s 13ms/step - loss: 0.1086 - acc: 0.9629 - val_loss: 0.4215 - val_acc: 0.8618\n",
      "Epoch 16/30\n",
      "25000/25000 [==============================] - 320s 13ms/step - loss: 0.0948 - acc: 0.9673 - val_loss: 0.4630 - val_acc: 0.8571\n",
      "Epoch 17/30\n",
      "25000/25000 [==============================] - 319s 13ms/step - loss: 0.1555 - acc: 0.9406 - val_loss: 0.4191 - val_acc: 0.8618\n",
      "Epoch 18/30\n",
      "25000/25000 [==============================] - 321s 13ms/step - loss: 0.1058 - acc: 0.9617 - val_loss: 0.5127 - val_acc: 0.8611\n",
      "Epoch 19/30\n",
      "25000/25000 [==============================] - 320s 13ms/step - loss: 0.0844 - acc: 0.9705 - val_loss: 0.5224 - val_acc: 0.8607\n",
      "Epoch 20/30\n",
      "25000/25000 [==============================] - 321s 13ms/step - loss: 0.0721 - acc: 0.9754 - val_loss: 0.5364 - val_acc: 0.8539\n",
      "Epoch 21/30\n",
      "25000/25000 [==============================] - 319s 13ms/step - loss: 0.0910 - acc: 0.9665 - val_loss: 0.6653 - val_acc: 0.7228\n",
      "Epoch 22/30\n",
      "25000/25000 [==============================] - 320s 13ms/step - loss: 0.1319 - acc: 0.9519 - val_loss: 0.5188 - val_acc: 0.8626\n",
      "Epoch 23/30\n",
      "25000/25000 [==============================] - 319s 13ms/step - loss: 0.0900 - acc: 0.9688 - val_loss: 0.5142 - val_acc: 0.8602\n",
      "Epoch 24/30\n",
      "25000/25000 [==============================] - 320s 13ms/step - loss: 0.1702 - acc: 0.9331 - val_loss: 0.4872 - val_acc: 0.8623\n",
      "Epoch 25/30\n",
      "25000/25000 [==============================] - 319s 13ms/step - loss: 0.0940 - acc: 0.9664 - val_loss: 0.5279 - val_acc: 0.8463\n",
      "Epoch 26/30\n",
      "25000/25000 [==============================] - 319s 13ms/step - loss: 0.0644 - acc: 0.9794 - val_loss: 0.5697 - val_acc: 0.8509\n",
      "Epoch 27/30\n",
      "25000/25000 [==============================] - 319s 13ms/step - loss: 0.0514 - acc: 0.9834 - val_loss: 0.6212 - val_acc: 0.8550\n",
      "Epoch 28/30\n",
      "25000/25000 [==============================] - 319s 13ms/step - loss: 0.0487 - acc: 0.9839 - val_loss: 0.6448 - val_acc: 0.8563\n",
      "Epoch 29/30\n",
      "25000/25000 [==============================] - 320s 13ms/step - loss: 0.0533 - acc: 0.9821 - val_loss: 0.6306 - val_acc: 0.8524\n",
      "Epoch 30/30\n",
      "25000/25000 [==============================] - 319s 13ms/step - loss: 0.0580 - acc: 0.9808 - val_loss: 0.6750 - val_acc: 0.8570\n"
     ]
    },
    {
     "data": {
      "text/plain": [
       "<keras.callbacks.History at 0x7f657bddd2e8>"
      ]
     },
     "execution_count": 10,
     "metadata": {
      "tags": []
     },
     "output_type": "execute_result"
    }
   ],
   "source": [
    "lembedding_vecor_length = 32\n",
    "model = Sequential()\n",
    "model.add(Embedding(top_words, embedding_vecor_length, input_length=max_review_length))\n",
    "model.add(Dropout(0.2))\n",
    "model.add(LSTM(100))\n",
    "model.add(Dropout(0.2))\n",
    "model.add(Dense(1, activation='sigmoid'))\n",
    "\n",
    "model.compile(loss='binary_crossentropy', optimizer='adam', metrics=['accuracy'])\n",
    "print(model.summary())\n",
    "model.fit(X_train, y_train, validation_data=(X_test, y_test), epochs=30, batch_size=64)"
   ]
  },
  {
   "cell_type": "code",
   "execution_count": 11,
   "metadata": {
    "colab": {
     "base_uri": "https://localhost:8080/",
     "height": 34
    },
    "colab_type": "code",
    "id": "rPhfJ4-sV-ec",
    "outputId": "5e9d7449-6231-4dcd-fad7-dbdffab96eee"
   },
   "outputs": [
    {
     "name": "stdout",
     "output_type": "stream",
     "text": [
      "Accuracy: 85.70%\n"
     ]
    }
   ],
   "source": [
    "#Calculate Accuracy\n",
    "scores = model.evaluate(X_test, y_test, verbose=0)\n",
    "print(\"Accuracy: %.2f%%\" % (scores[1]*100))"
   ]
  },
  {
   "cell_type": "code",
   "execution_count": 12,
   "metadata": {
    "colab": {
     "base_uri": "https://localhost:8080/",
     "height": 360
    },
    "colab_type": "code",
    "id": "vNKJuTpGCuxl",
    "outputId": "742d1b6a-bd7c-4b33-bb0b-580bded33b36"
   },
   "outputs": [
    {
     "name": "stdout",
     "output_type": "stream",
     "text": [
      "E: Package 'python-software-properties' has no installation candidate\n",
      "Selecting previously unselected package google-drive-ocamlfuse.\n",
      "(Reading database ... 131331 files and directories currently installed.)\n",
      "Preparing to unpack .../google-drive-ocamlfuse_0.7.6-0ubuntu1~ubuntu18.04.1_amd64.deb ...\n",
      "Unpacking google-drive-ocamlfuse (0.7.6-0ubuntu1~ubuntu18.04.1) ...\n",
      "Setting up google-drive-ocamlfuse (0.7.6-0ubuntu1~ubuntu18.04.1) ...\n",
      "Processing triggers for man-db (2.8.3-2ubuntu0.1) ...\n"
     ]
    },
    {
     "name": "stderr",
     "output_type": "stream",
     "text": [
      "W0729 21:33:04.188039 140075368548224 lazy_loader.py:50] \n",
      "The TensorFlow contrib module will not be included in TensorFlow 2.0.\n",
      "For more information, please see:\n",
      "  * https://github.com/tensorflow/community/blob/master/rfcs/20180907-contrib-sunset.md\n",
      "  * https://github.com/tensorflow/addons\n",
      "  * https://github.com/tensorflow/io (for I/O related ops)\n",
      "If you depend on functionality not listed there, please file an issue.\n",
      "\n"
     ]
    },
    {
     "name": "stdout",
     "output_type": "stream",
     "text": [
      "Please, open the following URL in a web browser: https://accounts.google.com/o/oauth2/auth?client_id=32555940559.apps.googleusercontent.com&redirect_uri=urn%3Aietf%3Awg%3Aoauth%3A2.0%3Aoob&scope=https%3A%2F%2Fwww.googleapis.com%2Fauth%2Fdrive&response_type=code&access_type=offline&approval_prompt=force\n",
      "··········\n",
      "Please, open the following URL in a web browser: https://accounts.google.com/o/oauth2/auth?client_id=32555940559.apps.googleusercontent.com&redirect_uri=urn%3Aietf%3Awg%3Aoauth%3A2.0%3Aoob&scope=https%3A%2F%2Fwww.googleapis.com%2Fauth%2Fdrive&response_type=code&access_type=offline&approval_prompt=force\n",
      "Please enter the verification code: Access token retrieved correctly.\n"
     ]
    }
   ],
   "source": [
    "#Run these codes first in order to install the necessary libraries and perform authorization\n",
    "!apt-get install -y -qq software-properties-common python-software-properties module-init-tools\n",
    "!add-apt-repository -y ppa:alessandro-strada/ppa 2>&1 > /dev/null\n",
    "!apt-get update -qq 2>&1 > /dev/null\n",
    "!apt-get -y install -qq google-drive-ocamlfuse fuse\n",
    "from google.colab import auth\n",
    "auth.authenticate_user()\n",
    "from oauth2client.client import GoogleCredentials\n",
    "creds = GoogleCredentials.get_application_default()\n",
    "import getpass\n",
    "!google-drive-ocamlfuse -headless -id={creds.client_id} -secret={creds.client_secret} < /dev/null 2>&1 | grep URL\n",
    "vcode = getpass.getpass()\n",
    "!echo {vcode} | google-drive-ocamlfuse -headless -id={creds.client_id} -secret={creds.client_secret}\n"
   ]
  },
  {
   "cell_type": "code",
   "execution_count": null,
   "metadata": {
    "colab": {},
    "colab_type": "code",
    "id": "fZBXjAJhCvon"
   },
   "outputs": [],
   "source": [
    "#Mount your Google Drive:\n",
    "!mkdir -p drive\n",
    "!google-drive-ocamlfuse drive"
   ]
  },
  {
   "cell_type": "code",
   "execution_count": 14,
   "metadata": {
    "colab": {
     "base_uri": "https://localhost:8080/",
     "height": 51
    },
    "colab_type": "code",
    "id": "Eg28yqVbHnkB",
    "outputId": "81404aa7-0f76-42fa-f622-2e5233413aef"
   },
   "outputs": [
    {
     "name": "stdout",
     "output_type": "stream",
     "text": [
      "'Colab Notebooks'  'Keto menu.desktop'\t Resume\t\t      Softwares\n",
      " GPU_Projects\t    My_Documents\t Sentiment_Analysis\n"
     ]
    }
   ],
   "source": [
    "#After success run Drive FUSE program, you can create a directory Sentiment_Analysis and access your drive at /content/drive with using command\n",
    "import os\n",
    "os.mkdir(\"/content/drive/Sentiment_Analysis\")\n",
    "os.chdir(\"/content/drive/\")\n",
    "!ls"
   ]
  },
  {
   "cell_type": "code",
   "execution_count": null,
   "metadata": {
    "colab": {},
    "colab_type": "code",
    "id": "z7tlcMA4C4_H"
   },
   "outputs": [],
   "source": [
    "#Append your path\n",
    "import sys\n",
    "sys.path.append('/content/drive/Sentiment_Analysis')"
   ]
  },
  {
   "cell_type": "code",
   "execution_count": 16,
   "metadata": {
    "colab": {
     "base_uri": "https://localhost:8080/",
     "height": 34
    },
    "colab_type": "code",
    "id": "0ZJbyBhuC5Zs",
    "outputId": "23143cc3-001b-4e09-eb5d-30c1021e3224"
   },
   "outputs": [
    {
     "name": "stdout",
     "output_type": "stream",
     "text": [
      "Saved model to disk\n"
     ]
    }
   ],
   "source": [
    "#Now save the model in required directory\n",
    "model.save('/content/drive/Sentiment_Analysis/sentiment_analysis_model_new.h5')\n",
    "print(\"Saved model to disk\")"
   ]
  },
  {
   "cell_type": "code",
   "execution_count": 30,
   "metadata": {
    "colab": {
     "base_uri": "https://localhost:8080/",
     "height": 34
    },
    "colab_type": "code",
    "id": "LeKHXBH0sl2S",
    "outputId": "b71636b2-7bd2-4abe-9304-18a905d74abf"
   },
   "outputs": [
    {
     "name": "stdout",
     "output_type": "stream",
     "text": [
      "sentiment_analysis_model_new.h5\n"
     ]
    }
   ],
   "source": [
    "#Check the content of the directory\n",
    "os.chdir(\"/content/drive/Sentiment_Analysis\")\n",
    "!ls"
   ]
  },
  {
   "cell_type": "code",
   "execution_count": 17,
   "metadata": {
    "colab": {
     "base_uri": "https://localhost:8080/",
     "height": 34
    },
    "colab_type": "code",
    "id": "_eu_xmZdC6i8",
    "outputId": "1fa21ec0-5f4c-4957-eda2-a5c626d48e37"
   },
   "outputs": [
    {
     "name": "stdout",
     "output_type": "stream",
     "text": [
      "Model Loaded\n"
     ]
    }
   ],
   "source": [
    "#Code to load the saved model\n",
    "model = load_model('/content/drive/Sentiment_Analysis/sentiment_analysis_model_new.h5')\n",
    "print(\"Model Loaded\")"
   ]
  },
  {
   "cell_type": "code",
   "execution_count": null,
   "metadata": {
    "colab": {},
    "colab_type": "code",
    "id": "S7C4aBedpAl9"
   },
   "outputs": [],
   "source": []
  },
  {
   "cell_type": "code",
   "execution_count": null,
   "metadata": {
    "colab": {},
    "colab_type": "code",
    "id": "wgB4EldRpAiL"
   },
   "outputs": [],
   "source": []
  },
  {
   "cell_type": "code",
   "execution_count": null,
   "metadata": {
    "colab": {},
    "colab_type": "code",
    "id": "A_bAJUGCpAbR"
   },
   "outputs": [],
   "source": []
  },
  {
   "cell_type": "code",
   "execution_count": null,
   "metadata": {
    "colab": {},
    "colab_type": "code",
    "id": "ymao-GCUo_6Y"
   },
   "outputs": [],
   "source": []
  },
  {
   "cell_type": "code",
   "execution_count": null,
   "metadata": {
    "colab": {},
    "colab_type": "code",
    "id": "UvB4DolCo_vV"
   },
   "outputs": [],
   "source": []
  },
  {
   "cell_type": "code",
   "execution_count": null,
   "metadata": {
    "colab": {},
    "colab_type": "code",
    "id": "IrvI2WTYo_o8"
   },
   "outputs": [],
   "source": []
  },
  {
   "cell_type": "code",
   "execution_count": null,
   "metadata": {
    "colab": {},
    "colab_type": "code",
    "id": "P6se9BOro_jv"
   },
   "outputs": [],
   "source": []
  },
  {
   "cell_type": "code",
   "execution_count": null,
   "metadata": {
    "colab": {},
    "colab_type": "code",
    "id": "i1hSJVj8o_Nh"
   },
   "outputs": [],
   "source": []
  },
  {
   "cell_type": "code",
   "execution_count": null,
   "metadata": {
    "colab": {},
    "colab_type": "code",
    "id": "VFJMDOHqo-39"
   },
   "outputs": [],
   "source": []
  },
  {
   "cell_type": "code",
   "execution_count": null,
   "metadata": {
    "colab": {},
    "colab_type": "code",
    "id": "SxzTZeOIo-ay"
   },
   "outputs": [],
   "source": []
  },
  {
   "cell_type": "code",
   "execution_count": null,
   "metadata": {
    "colab": {},
    "colab_type": "code",
    "id": "cIWRKxwuvn2V"
   },
   "outputs": [],
   "source": []
  }
 ],
 "metadata": {
  "accelerator": "TPU",
  "colab": {
   "collapsed_sections": [],
   "name": "Sentiment_Analysis_IMDB.ipynb",
   "provenance": [],
   "version": "0.3.2"
  },
  "kernelspec": {
   "display_name": "Python 3 (ipykernel)",
   "language": "python",
   "name": "python3"
  },
  "language_info": {
   "codemirror_mode": {
    "name": "ipython",
    "version": 3
   },
   "file_extension": ".py",
   "mimetype": "text/x-python",
   "name": "python",
   "nbconvert_exporter": "python",
   "pygments_lexer": "ipython3",
   "version": "3.12.4"
  }
 },
 "nbformat": 4,
 "nbformat_minor": 4
}
